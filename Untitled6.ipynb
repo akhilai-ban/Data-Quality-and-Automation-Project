{
  "nbformat": 4,
  "nbformat_minor": 0,
  "metadata": {
    "colab": {
      "provenance": []
    },
    "kernelspec": {
      "name": "python3",
      "display_name": "Python 3"
    },
    "language_info": {
      "name": "python"
    }
  },
  "cells": [
    {
      "cell_type": "code",
      "execution_count": null,
      "metadata": {
        "id": "J-3PQvXhkwkL"
      },
      "outputs": [],
      "source": [
        "# Data Quality and Automation Project Example\n",
        "\n",
        "# Import necessary libraries\n",
        "import pandas as pd\n",
        "import numpy as np\n",
        "\n",
        "# Load sample dataset\n",
        "# You can upload your file by running this cell and selecting the file.\n",
        "from google.colab import files\n",
        "uploaded = files.upload()\n",
        "\n",
        "# Read the uploaded CSV file into a pandas DataFrame\n",
        "df = pd.read_csv(next(iter(uploaded)))\n",
        "\n",
        "# Preview the dataset\n",
        "print(\"Initial Dataset:\")\n",
        "df.head()\n",
        "\n",
        "# Step 1: Data Quality Checks\n",
        "print(\"\\n--- Data Quality Checks ---\")\n",
        "\n",
        "# Check for missing values\n",
        "missing_values = df.isnull().sum()\n",
        "print(\"\\nMissing Values:\")\n",
        "print(missing_values[missing_values > 0])\n",
        "\n",
        "# Check for duplicate records\n",
        "duplicates = df.duplicated().sum()\n",
        "print(f\"\\nNumber of duplicate rows: {duplicates}\")\n",
        "\n",
        "# Check for invalid data types (numeric columns with strings, etc.)\n",
        "print(\"\\nData Types:\")\n",
        "print(df.dtypes)\n",
        "\n",
        "# Step 2: Data Automation (Cleaning)\n",
        "\n",
        "# Handle missing values (you can choose different strategies here)\n",
        "print(\"\\n--- Handling Missing Values ---\")\n",
        "# Option 1: Fill missing values with mean for numerical columns\n",
        "df.fillna(df.mean(), inplace=True)\n",
        "\n",
        "# Option 2: Drop rows with missing values\n",
        "# df.dropna(inplace=True)\n",
        "\n",
        "# Remove duplicate records\n",
        "print(\"\\n--- Removing Duplicates ---\")\n",
        "df.drop_duplicates(inplace=True)\n",
        "\n",
        "# Step 3: Data Standardization (Optional)\n",
        "# Example: Converting text columns to lowercase for consistency\n",
        "df['text_column'] = df['text_column'].str.lower()\n",
        "\n",
        "# Preview cleaned dataset\n",
        "print(\"\\nCleaned Dataset:\")\n",
        "df.head()\n",
        "\n",
        "# Step 4: Save the cleaned dataset\n",
        "df.to_csv('cleaned_data.csv', index=False)\n",
        "print(\"\\nCleaned dataset saved as 'cleaned_data.csv'\")\n"
      ]
    }
  ]
}